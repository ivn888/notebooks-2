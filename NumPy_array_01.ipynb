{
 "cells": [
  {
   "cell_type": "markdown",
   "metadata": {},
   "source": [
    "To begin, a basic import of NumPy is made to make it available.  Generally, NumPy is imported and given the notation 'np'.  This isn't a rule, but if followed, it will just be easier for you to repurpose code obtained elsewhere."
   ]
  },
  {
   "cell_type": "code",
   "execution_count": 1,
   "metadata": {
    "collapsed": true
   },
   "outputs": [],
   "source": [
    "import numpy as np"
   ]
  },
  {
   "cell_type": "markdown",
   "metadata": {},
   "source": [
    "We can construct a basic array using some very simple methods.  A small 2D array of sequential values can be constructed using 'arange' which produces numbers of a certain type in a certain range.  \n",
    "\n",
    "**Definition :** arange([start,] stop[, step,], dtype=None)\n",
    "**Type :** Function of numpy.core.multiarray module"
   ]
  },
  {
   "cell_type": "code",
   "execution_count": 2,
   "metadata": {},
   "outputs": [
    {
     "name": "stdout",
     "output_type": "stream",
     "text": [
      "Array ... \n",
      "[[0 1 2]\n",
      " [3 4 5]\n",
      " [6 7 8]]\n"
     ]
    }
   ],
   "source": [
    "a = np.arange(9).reshape(3, 3)\n",
    "print(\"Array ... \\n{}\".format(a))"
   ]
  },
  {
   "cell_type": "markdown",
   "metadata": {},
   "source": [
    "A slightly more complex example entails constructing an array or random integers within a specified range of values with a prescribe array shape.  The random in NumPy is exploited and the Mersenne Twister random number generator.  There are a variety of distributions that can be created, and in this example random integers in the range 0 up to 10 are created with a shape of 9 rows and 12 columns.  RandomState is used to ensure that the same pattern is generated each time the array is created so that there is a random generations only once, then the values are fixed."
   ]
  },
  {
   "cell_type": "code",
   "execution_count": 3,
   "metadata": {
    "collapsed": true
   },
   "outputs": [
    {
     "name": "stdout",
     "output_type": "stream",
     "text": [
      "2D array ... 9 rows 12 cols\n",
      "[[5 8 9 5 0 0 1 7 6 9 2 4]\n",
      " [5 2 4 2 4 7 7 9 1 7 0 6]\n",
      " [9 9 7 6 9 1 0 1 8 8 3 9]\n",
      " [8 7 3 6 5 1 9 3 4 8 1 4]\n",
      " [0 3 9 2 0 4 9 2 7 7 9 8]\n",
      " [6 9 3 7 7 4 5 9 3 6 8 0]\n",
      " [2 7 7 9 7 3 0 8 7 7 1 1]\n",
      " [3 0 8 6 4 5 6 2 5 7 8 4]\n",
      " [4 7 7 4 9 0 2 0 7 1 7 9]]\n"
     ]
    }
   ],
   "source": [
    "# ---- construct a repeatable array of 2D integers with a shape of 9 rows by 12 columns. ----\n",
    "import numpy as np\n",
    "a = np.random.mtrand.RandomState(1).randint(0, 10, size=(9, 12))\n",
    "print(\"2D array ... {} rows {} cols\\n{}\".format(*a.shape, a))"
   ]
  },
  {
   "cell_type": "markdown",
   "metadata": {},
   "source": [
    "We can make a 'map' from a 2D array using MatPlotLib. Two variants are produced by reshaping 256 sequential integers into a 16x16 array (map).  An RGB image is produced from the 3 'bands' of information and 'stacked together \n"
   ]
  },
  {
   "cell_type": "code",
   "execution_count": 4,
   "metadata": {
    "collapsed": true
   },
   "outputs": [
    {
     "data": {
      "image/png": "[encoded data removed]",
      "text/plain": [
       "<matplotlib.figure.Figure at 0x243401356d8>"
      ]
     },
     "metadata": {},
     "output_type": "display_data"
    },
    {
     "data": {
      "image/png": "[encoded data removed]",
      "text/plain": [
       "<matplotlib.figure.Figure at 0x24340b57eb8>"
      ]
     },
     "metadata": {},
     "output_type": "display_data"
    }
   ],
   "source": [
    "# num_92 gray scale image from rgb\n",
    "def num_92():\n",
    "    \"\"\"num_92... gray-scale image from rgb\n",
    "    :Essentially gray = 0.2989 * r + 0.5870 * g + 0.1140 * b\n",
    "    : http://stackoverflow.com/questions/12201577/how-can-i-convert\n",
    "    :       -an-rgb-image-into-grayscale-in-python\n",
    "    : https://en.m.wikipedia.org/wiki/Grayscale#Converting_color_to_grayscale\n",
    "    : see https://en.m.wikipedia.org/wiki/HSL_and_HSV\n",
    "    \"\"\"\n",
    "    import numpy as np\n",
    "    import matplotlib.pyplot as plt\n",
    "    a = np.arange(256).reshape(16, 16)\n",
    "    b = a[::-1]\n",
    "    c = np.ones_like(a)*128\n",
    "    rgb = np.dstack((a, b, c))\n",
    "    gray = np.dot(rgb[..., :3], [0.2989, 0.5870, 0.1140])\n",
    "    plt.imshow(gray, cmap=plt.get_cmap('gray'))\n",
    "    plt.show()\n",
    "    plt.imshow(rgb, cmap=plt.get_cmap('spectral'))\n",
    "    plt.show()\n",
    "\n",
    "num_92() # produce the gray image"
   ]
  },
  {
   "cell_type": "markdown",
   "metadata": {
    "collapsed": true
   },
   "source": [
    "That is just some of the basics you can do with the packages that are available to you through numpy and ArcMap and ArcGIS Pro."
   ]
  }
 ],
 "metadata": {
  "kernelspec": {
   "display_name": "Python 3",
   "language": "python",
   "name": "python3"
  },
  "language_info": {
   "codemirror_mode": {
    "name": "ipython",
    "version": 3
   },
   "file_extension": ".py",
   "mimetype": "text/x-python",
   "name": "python",
   "nbconvert_exporter": "python",
   "pygments_lexer": "ipython3",
   "version": "3.5.3"
  }
 },
 "nbformat": 4,
 "nbformat_minor": 2
}
