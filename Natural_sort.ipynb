{
 "cells": [
  {
   "cell_type": "code",
   "execution_count": 1,
   "metadata": {
    "collapsed": true
   },
   "outputs": [],
   "source": [
    "# -*- coding: UTF-8 -*-\n",
    "\"\"\"\n",
    ":Script:   natural_sort.py\n",
    ":Author:   Dan.Patterson@carleton.ca\n",
    ":Modified: 2017-08-23\n",
    ":Purpose:  Returns a mixed text-number list accounting for numeric values\n",
    ":  ['a1', 'a20', 'a2', 'a10'] should yield ['a1', 'a2', 'a10', 'a20']\n",
    "\"\"\"\n",
    "\n",
    "import re\n",
    "\n",
    "def natsort(text_lst):\n",
    "    \"\"\"natural sort returns text containing numbers sorted considering the\n",
    "    :  number in the sequence.\n",
    "    :originals used lambda expressions\n",
    "    :  convert = lambda text: int(text) if text.isdigit() else text\n",
    "    :  a_key = lambda key: [convert(c) for c in re.split('([0-9]+)', key)]\n",
    "    \"\"\"\n",
    "    def convert(text):\n",
    "        return int(text) if text.isdigit() else text\n",
    "\n",
    "    def a_key(key):\n",
    "        return [convert(c) for c in re.split('([0-9]+)', key)]\n",
    "\n",
    "    return sorted(text_lst, key=a_key)"
   ]
  },
  {
   "cell_type": "markdown",
   "metadata": {},
   "source": [
    "Given the above function, you can sort values that contain text and numbers properly. \n",
    "Here is a simple example"
   ]
  },
  {
   "cell_type": "code",
   "execution_count": 13,
   "metadata": {},
   "outputs": [
    {
     "name": "stdout",
     "output_type": "stream",
     "text": [
      "Conventional sort...\n",
      "['a1', 'a10', 'a2', 'a20']\n",
      "Natural sort....\n",
      "['a1', 'a2', 'a10', 'a20']\n"
     ]
    }
   ],
   "source": [
    "a = ['a1', 'a20', 'a2', 'a10']\n",
    "vals = natsort(a)\n",
    "print(\"Conventional sort...\\n{}\\nNatural sort....\\n{}\".format(sorted(a), natsort(a)))"
   ]
  },
  {
   "cell_type": "markdown",
   "metadata": {},
   "source": [
    "Try it with your own...."
   ]
  }
 ],
 "metadata": {
  "kernelspec": {
   "display_name": "Python 3",
   "language": "python",
   "name": "python3"
  },
  "language_info": {
   "codemirror_mode": {
    "name": "ipython",
    "version": 3
   },
   "file_extension": ".py",
   "mimetype": "text/x-python",
   "name": "python",
   "nbconvert_exporter": "python",
   "pygments_lexer": "ipython3",
   "version": "3.6.1"
  }
 },
 "nbformat": 4,
 "nbformat_minor": 2
}
