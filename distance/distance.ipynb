{
 "cells": [
  {
   "cell_type": "markdown",
   "metadata": {},
   "source": [
    "## Polyline distance/length calculations with... numpy and arcpy ##"
   ]
  },
  {
   "cell_type": "markdown",
   "metadata": {},
   "source": [
    "This is a simple example of calculating distance/length related values using points that are the vertices of a polyline.\n",
    "The usual methods would include using arcpy methods associated with the point class and various cursors in the arcpy module.\n",
    "\n",
    "We will begin by a simple 2D shapefile with 10 points.  Import our two main modules and create an array using the built-in FeatureClassToNumPyArray method.  All that is required is a featureclass in a geodatabase or ashapefile and the fields that you want to import.  Details are presented in the help topics given in the reference section.\n",
    "\n",
    "I prefer to use my own dtype names when working with arrays, so I just create my own (line 9) and assign them to the input array (line 11).  This is possible since the data types have not changed, just the names. \n",
    "\n",
    "Note: i4 is an integer data type and f8 is a double/float... details elsewhere, but that is effectively what you will use except for text (U5 for unicode string 5 characters wide) and maybe datetime (addressed much later)."
   ]
  },
  {
   "cell_type": "code",
   "execution_count": 1,
   "metadata": {},
   "outputs": [
    {
     "name": "stdout",
     "output_type": "stream",
     "text": [
      "\n",
      "(1) Structured array, reshaped to facilitate viewing\n",
      "array([[(0, 7.0, 2.0)],\n",
      "       [(1, 8.0, 1.0)],\n",
      "       [(2, 2.0, 1.0)],\n",
      "       [(3, 4.0, 9.0)],\n",
      "       [(4, 0.0, 7.0)],\n",
      "       [(5, 1.0, 8.0)],\n",
      "       [(6, 5.0, 7.0)],\n",
      "       [(7, 7.0, 4.0)],\n",
      "       [(8, 1.0, 1.0)],\n",
      "       [(9, 2.0, 2.0)]], \n",
      "      dtype=[('ID', '<i4'), ('X', '<f8'), ('Y', '<f8')])\n",
      "\n"
     ]
    }
   ],
   "source": [
    "import numpy as np\n",
    "import arcpy\n",
    "\n",
    "# ---- load a shapefile into an array and simplify the dtype ----\n",
    "in_fc = r'C:\\Git_Dan\\JupyterNoteBooks\\Data\\Shapefiles\\test.shp'\n",
    "\n",
    "a = arcpy.da.FeatureClassToNumPyArray(in_fc,\n",
    "                                      [\"OID@\", \"SHAPE@X\", \"SHAPE@Y\"])\n",
    "\n",
    "dt = [('ID', '<i4'), ('X', '<f8'), ('Y', '<f8')]\n",
    "# ---------------------------------------------------------------------\n",
    "a.dtype = dt\n",
    "\n",
    "frmt = \"\"\"\n",
    "(1) Structured array, reshaped to facilitate viewing\\n{!r:}\n",
    "\"\"\"\n",
    "print(frmt.format(a.reshape(a.shape[0], -1)))"
   ]
  },
  {
   "cell_type": "markdown",
   "metadata": {
    "collapsed": true
   },
   "source": [
    "At this point, a structured array has been created and ready for use.  Calculating distance between points can be accomplished using a variety of means.  They are all valid, but I have my preference since it scales well to arrays with dimensions greater than 2D.  The details of the calculation are not really pertinent to the discussion.\n",
    "\n",
    "At this point, we need to pull out the X, Y coordinates to make it easier and faster to complete the task.  Remember, this demonstration is showing all the steps... there are helper functions to do these repetitive tasks for you..."
   ]
  },
  {
   "cell_type": "code",
   "execution_count": 2,
   "metadata": {},
   "outputs": [
    {
     "name": "stdout",
     "output_type": "stream",
     "text": [
      "(2) e_dist = h_dist?... True\n",
      "\n",
      "(3) the X, Y and Distances\n",
      "[[ 7.          2.          0.        ]\n",
      " [ 8.          1.          1.41421356]\n",
      " [ 2.          1.          6.        ]\n",
      " [ 4.          9.          8.24621125]\n",
      " [ 0.          7.          4.47213595]\n",
      " [ 1.          8.          1.41421356]\n",
      " [ 5.          7.          4.12310563]\n",
      " [ 7.          4.          3.60555128]\n",
      " [ 1.          1.          6.70820393]\n",
      " [ 2.          2.          1.41421356]]\n"
     ]
    }
   ],
   "source": [
    "# ---------------------------------------------------------------------\n",
    "#  Create an array to hold the X, Y values and our result, and \n",
    "#  fill it appropriately ----\n",
    "#  # np.zeros(shape=(rows, cols), dtype=datatype)\n",
    "#  [:, 0] means every row, the first column [:, 1] is the second column\n",
    "# compute the sequential differences between the points\n",
    "xy = np.zeros((len(a), 3), dtype='float')\n",
    "\n",
    "xy[:, 0] = a['X'] \n",
    "xy[:, 1] = a['Y']\n",
    "\n",
    "diff = xy[1:] - xy[:-1]\n",
    "\n",
    "dist_sq = np.einsum('ij,ij->i', diff, diff)  # magic happens here\n",
    "\n",
    "e_dist = np.sqrt(dist_sq).squeeze()\n",
    "\n",
    "h_dist = np.hypot(diff[:, 1], diff[:, 0])    # Pythagoras to the rescue\n",
    "\n",
    "# now fill the xy array's third column with the distances skipping the first\n",
    "#\n",
    "xy[1:, 2] = e_dist\n",
    "\n",
    "print(\"(2) e_dist = h_dist?... {}\\n\".format(np.all(e_dist==h_dist)))\n",
    "print(\"(3) the X, Y and Distances\\n{}\".format(xy))\n"
   ]
  },
  {
   "cell_type": "markdown",
   "metadata": {},
   "source": [
    "The results can be sent out to a featureclass either by appending to an existing one, or creating a new one.  The following shows how to accomplish this.  The first step is to create a new dtype and an output array to fill. The results are created and send to an output featureclass.  The previous dtype will be reused and added to."
   ]
  },
  {
   "cell_type": "code",
   "execution_count": 3,
   "metadata": {
    "collapsed": true
   },
   "outputs": [],
   "source": [
    "# ---------------------------------------------------------------------\n",
    "# prepare a structured array to fill\n",
    "# notice that there is no 'ID' field!!!\n",
    "# fill the array\n",
    "# off to a shapefile or featureclass, uncomment line 14 obviously\n",
    "\n",
    "dt = [('X', '<f8'), ('Y', '<f8')] + [('Dist', '<f8')]\n",
    "\n",
    "out = np.zeros((len(xy),), dtype=dt)\n",
    "names = out.dtype.names\n",
    "for i in range(xy.shape[1]):\n",
    "    out[names[i]] = xy[:, i]\n",
    "\n",
    "# arcpy.da.NumPyArrayToFeatureClass(out, r'c:\\temp\\test.shp', ['X', 'Y'])"
   ]
  },
  {
   "cell_type": "markdown",
   "metadata": {},
   "source": [
    "You may have noticed that no ID field was needed to create the output array since ArcMap or ArcGIS Pro will create the necessary identification field.\n",
    "\n",
    "\n",
    "### Next Steps ###\n",
    "\n",
    "In the above example, the interpoint distances were calculated.  It should come as no surprise that one could calculate:\n",
    "\n",
    "1. the total length\n",
    "2. the distance between any two points on the polyline ( ie first and last, first and all others, etcetera)\n",
    "3. a distance matrix of distances of all points to all other points\n",
    "\n",
    "The options are endless, and only slight modifications to the base code is required."
   ]
  },
  {
   "cell_type": "code",
   "execution_count": 4,
   "metadata": {},
   "outputs": [
    {
     "name": "stdout",
     "output_type": "stream",
     "text": [
      "\n",
      "Distance matrix between all points...\n",
      "array([[  0. ,   2. ,   7.9,  11.2,   9.7,   8.6,   6.8,   4.1,   9.1,   5.2],\n",
      "       [  2. ,   0. ,   7.6,  11.3,  10.5,   9.9,   7.2,   3.8,   8.8,   6.1],\n",
      "       [  7.9,   7.6,   0. ,   8.5,   6.5,   8.4,   7. ,   6.3,   1.2,   4.7],\n",
      "       [ 11.2,  11.3,   8.5,   0. ,   5.9,   7.5,   4.7,   7.5,   8.7,  10. ],\n",
      "       [  9.7,  10.5,   6.5,   5.9,   0. ,   3.4,   5. ,   7.7,   6.5,   6.2],\n",
      "       [  8.6,   9.9,   8.4,   7.5,   3.4,   0. ,   4.9,   7.5,   8.8,   6.1],\n",
      "       [  6.8,   7.2,   7. ,   4.7,   5. ,   4.9,   0. ,   3.6,   7.7,   6.4],\n",
      "       [  4.1,   3.8,   6.3,   7.5,   7.7,   7.5,   3.6,   0. ,   7.4,   5.8],\n",
      "       [  9.1,   8.8,   1.2,   8.7,   6.5,   8.8,   7.7,   7.4,   0. ,   5.5],\n",
      "       [  5.2,   6.1,   4.7,  10. ,   6.2,   6.1,   6.4,   5.8,   5.5,   0. ]])\n"
     ]
    }
   ],
   "source": [
    "# ---------------------------------------------------------------------\n",
    "# begin with xy array, form a cloned version with a different shape\n",
    "# this is needed for 'array broadcasting'\n",
    "# subtract the two arrays\n",
    "# return euclidean distance and clean up\n",
    "\n",
    "a = xy.reshape(xy.shape[0], 1, xy.shape[1])\n",
    "diff = a - xy\n",
    "e_matrix = np.einsum('ijk,ijk->ij', diff, diff)  # 'Magic'\n",
    "out = np.sqrt(e_matrix).squeeze()\n",
    "\n",
    "# ---- set up some formatting options and print away ---- (homework)\n",
    "\n",
    "np.set_printoptions(edgeitems=10, linewidth=80, precision=1,\n",
    "                    suppress=True, threshold=100)\n",
    "\n",
    "print(\"\\nDistance matrix between all points...\\n{!r:}\".format(out))"
   ]
  },
  {
   "cell_type": "markdown",
   "metadata": {},
   "source": [
    "** References **\n",
    "\n",
    "Point class\n",
    "\n",
    "    http://desktop.arcgis.com/en/arcmap/latest/analyze/arcpy-classes/point.htm\n",
    "\n",
    "PointGeometry class\n",
    "\n",
    "    http://desktop.arcgis.com/en/arcmap/latest/analyze/arcpy-classes/pointgeometry.htm\n",
    "\n",
    "FeatureClassToNumPyArray method\n",
    "\n",
    "    http://desktop.arcgis.com/search/?q=featureclasstonumpyarray&collection=help&product=arcgis-desktop&version=10.5&language=en\n"
   ]
  }
 ],
 "metadata": {
  "kernelspec": {
   "display_name": "Python 3",
   "language": "python",
   "name": "python3"
  },
  "language_info": {
   "codemirror_mode": {
    "name": "ipython",
    "version": 3
   },
   "file_extension": ".py",
   "mimetype": "text/x-python",
   "name": "python",
   "nbconvert_exporter": "python",
   "pygments_lexer": "ipython3",
   "version": "3.5.3"
  }
 },
 "nbformat": 4,
 "nbformat_minor": 2
}
